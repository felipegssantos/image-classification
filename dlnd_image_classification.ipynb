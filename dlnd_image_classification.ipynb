{
 "cells": [
  {
   "cell_type": "markdown",
   "metadata": {
    "collapsed": true
   },
   "source": [
    "# Image Classification\n",
    "In this project, you'll classify images from the [CIFAR-10 dataset](https://www.cs.toronto.edu/~kriz/cifar.html).  The dataset consists of airplanes, dogs, cats, and other objects. You'll preprocess the images, then train a convolutional neural network on all the samples. The images need to be normalized and the labels need to be one-hot encoded.  You'll get to apply what you learned and build a convolutional, max pooling, dropout, and fully connected layers.  At the end, you'll get to see your neural network's predictions on the sample images.\n",
    "## Get the Data\n",
    "Run the following cell to download the [CIFAR-10 dataset for python](https://www.cs.toronto.edu/~kriz/cifar-10-python.tar.gz)."
   ]
  },
  {
   "cell_type": "code",
   "execution_count": 1,
   "metadata": {},
   "outputs": [
    {
     "name": "stdout",
     "output_type": "stream",
     "text": [
      "All files found!\n"
     ]
    }
   ],
   "source": [
    "\"\"\"\n",
    "DON'T MODIFY ANYTHING IN THIS CELL THAT IS BELOW THIS LINE\n",
    "\"\"\"\n",
    "from urllib.request import urlretrieve\n",
    "from os.path import isfile, isdir\n",
    "from tqdm import tqdm\n",
    "import problem_unittests as tests\n",
    "import tarfile\n",
    "\n",
    "cifar10_dataset_folder_path = 'cifar-10-batches-py'\n",
    "\n",
    "# Use Floyd's cifar-10 dataset if present\n",
    "floyd_cifar10_location = '/input/cifar-10/python.tar.gz'\n",
    "if isfile(floyd_cifar10_location):\n",
    "    tar_gz_path = floyd_cifar10_location\n",
    "else:\n",
    "    tar_gz_path = 'cifar-10-python.tar.gz'\n",
    "\n",
    "class DLProgress(tqdm):\n",
    "    last_block = 0\n",
    "\n",
    "    def hook(self, block_num=1, block_size=1, total_size=None):\n",
    "        self.total = total_size\n",
    "        self.update((block_num - self.last_block) * block_size)\n",
    "        self.last_block = block_num\n",
    "\n",
    "if not isfile(tar_gz_path):\n",
    "    with DLProgress(unit='B', unit_scale=True, miniters=1, desc='CIFAR-10 Dataset') as pbar:\n",
    "        urlretrieve(\n",
    "            'https://www.cs.toronto.edu/~kriz/cifar-10-python.tar.gz',\n",
    "            tar_gz_path,\n",
    "            pbar.hook)\n",
    "\n",
    "if not isdir(cifar10_dataset_folder_path):\n",
    "    with tarfile.open(tar_gz_path) as tar:\n",
    "        tar.extractall()\n",
    "        tar.close()\n",
    "\n",
    "\n",
    "tests.test_folder_path(cifar10_dataset_folder_path)"
   ]
  },
  {
   "cell_type": "markdown",
   "metadata": {},
   "source": [
    "## Explore the Data\n",
    "The dataset is broken into batches to prevent your machine from running out of memory.  The CIFAR-10 dataset consists of 5 batches, named `data_batch_1`, `data_batch_2`, etc.. Each batch contains the labels and images that are one of the following:\n",
    "* airplane\n",
    "* automobile\n",
    "* bird\n",
    "* cat\n",
    "* deer\n",
    "* dog\n",
    "* frog\n",
    "* horse\n",
    "* ship\n",
    "* truck\n",
    "\n",
    "Understanding a dataset is part of making predictions on the data.  Play around with the code cell below by changing the `batch_id` and `sample_id`. The `batch_id` is the id for a batch (1-5). The `sample_id` is the id for a image and label pair in the batch.\n",
    "\n",
    "Ask yourself \"What are all possible labels?\", \"What is the range of values for the image data?\", \"Are the labels in order or random?\".  Answers to questions like these will help you preprocess the data and end up with better predictions."
   ]
  },
  {
   "cell_type": "code",
   "execution_count": 8,
   "metadata": {},
   "outputs": [
    {
     "name": "stdout",
     "output_type": "stream",
     "text": [
      "\n",
      "Stats of batch 3:\n",
      "Samples: 10000\n",
      "Label Counts: {0: 994, 1: 1042, 2: 965, 3: 997, 4: 990, 5: 1029, 6: 978, 7: 1015, 8: 961, 9: 1029}\n",
      "First 20 Labels: [8, 5, 0, 6, 9, 2, 8, 3, 6, 2, 7, 4, 6, 9, 0, 0, 7, 3, 7, 2]\n",
      "\n",
      "Example of Image 5:\n",
      "Image - Min Value: 9 Max Value: 255\n",
      "Image - Shape: (32, 32, 3)\n",
      "Label - Label Id: 2 Name: bird\n"
     ]
    },
    {
     "data": {
      "image/png": "[encoded data removed]",
      "text/plain": [
       "<matplotlib.figure.Figure at 0x7f30648854e0>"
      ]
     },
     "metadata": {
      "image/png": {
       "height": 250,
       "width": 253
      }
     },
     "output_type": "display_data"
    }
   ],
   "source": [
    "%matplotlib inline\n",
    "%config InlineBackend.figure_format = 'retina'\n",
    "\n",
    "import helper\n",
    "import numpy as np\n",
    "\n",
    "# Explore the dataset\n",
    "batch_id = 3\n",
    "sample_id = 5\n",
    "helper.display_stats(cifar10_dataset_folder_path, batch_id, sample_id)"
   ]
  },
  {
   "cell_type": "markdown",
   "metadata": {},
   "source": [
    "## Implement Preprocess Functions\n",
    "### Normalize\n",
    "In the cell below, implement the `normalize` function to take in image data, `x`, and return it as a normalized Numpy array. The values should be in the range of 0 to 1, inclusive.  The return object should be the same shape as `x`."
   ]
  },
  {
   "cell_type": "code",
   "execution_count": 9,
   "metadata": {},
   "outputs": [
    {
     "name": "stdout",
     "output_type": "stream",
     "text": [
      "Tests Passed\n"
     ]
    }
   ],
   "source": [
    "def normalize(x):\n",
    "    \"\"\"\n",
    "    Normalize a list of sample image data in the range of 0 to 1\n",
    "    : x: List of image data.  The image shape is (32, 32, 3)\n",
    "    : return: Numpy array of normalize data\n",
    "    \"\"\"\n",
    "    return (x - x.min()) / (x.max() - x.min())\n",
    "\n",
    "\n",
    "\"\"\"\n",
    "DON'T MODIFY ANYTHING IN THIS CELL THAT IS BELOW THIS LINE\n",
    "\"\"\"\n",
    "tests.test_normalize(normalize)"
   ]
  },
  {
   "cell_type": "markdown",
   "metadata": {},
   "source": [
    "### One-hot encode\n",
    "Just like the previous code cell, you'll be implementing a function for preprocessing.  This time, you'll implement the `one_hot_encode` function. The input, `x`, are a list of labels.  Implement the function to return the list of labels as One-Hot encoded Numpy array.  The possible values for labels are 0 to 9. The one-hot encoding function should return the same encoding for each value between each call to `one_hot_encode`.  Make sure to save the map of encodings outside the function.\n",
    "\n",
    "Hint: Don't reinvent the wheel."
   ]
  },
  {
   "cell_type": "code",
   "execution_count": 12,
   "metadata": {},
   "outputs": [
    {
     "data": {
      "text/plain": [
       "array([[ 0.,  1.,  0.,  0.,  0.,  0.,  0.,  0.,  0.,  0.],\n",
       "       [ 0.,  0.,  1.,  0.,  0.,  0.,  0.,  0.,  0.,  0.],\n",
       "       [ 0.,  0.,  0.,  0.,  0.,  1.,  0.,  0.,  0.,  0.],\n",
       "       [ 1.,  0.,  0.,  0.,  0.,  0.,  0.,  0.,  0.,  0.]])"
      ]
     },
     "execution_count": 12,
     "metadata": {},
     "output_type": "execute_result"
    }
   ],
   "source": [
    "x = [1,2,5,0]\n",
    "output = np.zeros((len(x), 10))\n",
    "output[np.arange(len(x)), x] = 1\n",
    "output"
   ]
  },
  {
   "cell_type": "code",
   "execution_count": 13,
   "metadata": {},
   "outputs": [
    {
     "name": "stdout",
     "output_type": "stream",
     "text": [
      "Tests Passed\n"
     ]
    }
   ],
   "source": [
    "def one_hot_encode(x):\n",
    "    \"\"\"\n",
    "    One hot encode a list of sample labels. Return a one-hot encoded vector for each label.\n",
    "    : x: List of sample Labels\n",
    "    : return: Numpy array of one-hot encoded labels\n",
    "    \"\"\"\n",
    "    output = np.zeros((len(x), 10))\n",
    "    output[np.arange(len(x)), x] = 1\n",
    "    return output\n",
    "\n",
    "\n",
    "\"\"\"\n",
    "DON'T MODIFY ANYTHING IN THIS CELL THAT IS BELOW THIS LINE\n",
    "\"\"\"\n",
    "tests.test_one_hot_encode(one_hot_encode)"
   ]
  },
  {
   "cell_type": "markdown",
   "metadata": {},
   "source": [
    "### Randomize Data\n",
    "As you saw from exploring the data above, the order of the samples are randomized.  It doesn't hurt to randomize it again, but you don't need to for this dataset."
   ]
  },
  {
   "cell_type": "markdown",
   "metadata": {},
   "source": [
    "## Preprocess all the data and save it\n",
    "Running the code cell below will preprocess all the CIFAR-10 data and save it to file. The code below also uses 10% of the training data for validation."
   ]
  },
  {
   "cell_type": "code",
   "execution_count": 14,
   "metadata": {},
   "outputs": [],
   "source": [
    "\"\"\"\n",
    "DON'T MODIFY ANYTHING IN THIS CELL\n",
    "\"\"\"\n",
    "# Preprocess Training, Validation, and Testing Data\n",
    "helper.preprocess_and_save_data(cifar10_dataset_folder_path, normalize, one_hot_encode)"
   ]
  },
  {
   "cell_type": "markdown",
   "metadata": {},
   "source": [
    "# Check Point\n",
    "This is your first checkpoint.  If you ever decide to come back to this notebook or have to restart the notebook, you can start from here.  The preprocessed data has been saved to disk."
   ]
  },
  {
   "cell_type": "code",
   "execution_count": 15,
   "metadata": {
    "collapsed": true
   },
   "outputs": [],
   "source": [
    "\"\"\"\n",
    "DON'T MODIFY ANYTHING IN THIS CELL\n",
    "\"\"\"\n",
    "import pickle\n",
    "import problem_unittests as tests\n",
    "import helper\n",
    "\n",
    "# Load the Preprocessed Validation data\n",
    "valid_features, valid_labels = pickle.load(open('preprocess_validation.p', mode='rb'))"
   ]
  },
  {
   "cell_type": "markdown",
   "metadata": {},
   "source": [
    "## Build the network\n",
    "For the neural network, you'll build each layer into a function.  Most of the code you've seen has been outside of functions. To test your code more thoroughly, we require that you put each layer in a function.  This allows us to give you better feedback and test for simple mistakes using our unittests before you submit your project.\n",
    "\n",
    ">**Note:** If you're finding it hard to dedicate enough time for this course each week, we've provided a small shortcut to this part of the project. In the next couple of problems, you'll have the option to use classes from the [TensorFlow Layers](https://www.tensorflow.org/api_docs/python/tf/layers) or [TensorFlow Layers (contrib)](https://www.tensorflow.org/api_guides/python/contrib.layers) packages to build each layer, except the layers you build in the \"Convolutional and Max Pooling Layer\" section.  TF Layers is similar to Keras's and TFLearn's abstraction to layers, so it's easy to pickup.\n",
    "\n",
    ">However, if you would like to get the most out of this course, try to solve all the problems _without_ using anything from the TF Layers packages. You **can** still use classes from other packages that happen to have the same name as ones you find in TF Layers! For example, instead of using the TF Layers version of the `conv2d` class, [tf.layers.conv2d](https://www.tensorflow.org/api_docs/python/tf/layers/conv2d), you would want to use the TF Neural Network version of `conv2d`, [tf.nn.conv2d](https://www.tensorflow.org/api_docs/python/tf/nn/conv2d). \n",
    "\n",
    "Let's begin!\n",
    "\n",
    "### Input\n",
    "The neural network needs to read the image data, one-hot encoded labels, and dropout keep probability. Implement the following functions\n",
    "* Implement `neural_net_image_input`\n",
    " * Return a [TF Placeholder](https://www.tensorflow.org/api_docs/python/tf/placeholder)\n",
    " * Set the shape using `image_shape` with batch size set to `None`.\n",
    " * Name the TensorFlow placeholder \"x\" using the TensorFlow `name` parameter in the [TF Placeholder](https://www.tensorflow.org/api_docs/python/tf/placeholder).\n",
    "* Implement `neural_net_label_input`\n",
    " * Return a [TF Placeholder](https://www.tensorflow.org/api_docs/python/tf/placeholder)\n",
    " * Set the shape using `n_classes` with batch size set to `None`.\n",
    " * Name the TensorFlow placeholder \"y\" using the TensorFlow `name` parameter in the [TF Placeholder](https://www.tensorflow.org/api_docs/python/tf/placeholder).\n",
    "* Implement `neural_net_keep_prob_input`\n",
    " * Return a [TF Placeholder](https://www.tensorflow.org/api_docs/python/tf/placeholder) for dropout keep probability.\n",
    " * Name the TensorFlow placeholder \"keep_prob\" using the TensorFlow `name` parameter in the [TF Placeholder](https://www.tensorflow.org/api_docs/python/tf/placeholder).\n",
    "\n",
    "These names will be used at the end of the project to load your saved model.\n",
    "\n",
    "Note: `None` for shapes in TensorFlow allow for a dynamic size."
   ]
  },
  {
   "cell_type": "code",
   "execution_count": 23,
   "metadata": {},
   "outputs": [
    {
     "name": "stdout",
     "output_type": "stream",
     "text": [
      "Image Input Tests Passed.\n",
      "Label Input Tests Passed.\n",
      "Keep Prob Tests Passed.\n"
     ]
    }
   ],
   "source": [
    "import tensorflow as tf\n",
    "\n",
    "def neural_net_image_input(image_shape):\n",
    "    \"\"\"\n",
    "    Return a Tensor for a batch of image input\n",
    "    : image_shape: Shape of the images\n",
    "    : return: Tensor for image input.\n",
    "    \"\"\"\n",
    "    shape = [[None], image_shape]\n",
    "    shape = [value for sublist in shape for value in sublist]\n",
    "    return tf.placeholder(tf.float32, shape=shape, name='x')\n",
    "\n",
    "\n",
    "def neural_net_label_input(n_classes):\n",
    "    \"\"\"\n",
    "    Return a Tensor for a batch of label input\n",
    "    : n_classes: Number of classes\n",
    "    : return: Tensor for label input.\n",
    "    \"\"\"\n",
    "    return tf.placeholder(tf.uint8, shape=[None, n_classes], name='y')\n",
    "\n",
    "\n",
    "def neural_net_keep_prob_input():\n",
    "    \"\"\"\n",
    "    Return a Tensor for keep probability\n",
    "    : return: Tensor for keep probability.\n",
    "    \"\"\"\n",
    "    return tf.placeholder(tf.float32, name='keep_prob')\n",
    "\n",
    "\n",
    "\"\"\"\n",
    "DON'T MODIFY ANYTHING IN THIS CELL THAT IS BELOW THIS LINE\n",
    "\"\"\"\n",
    "tf.reset_default_graph()\n",
    "tests.test_nn_image_inputs(neural_net_image_input)\n",
    "tests.test_nn_label_inputs(neural_net_label_input)\n",
    "tests.test_nn_keep_prob_inputs(neural_net_keep_prob_input)"
   ]
  },
  {
   "cell_type": "markdown",
   "metadata": {},
   "source": [
    "### Convolution and Max Pooling Layer\n",
    "Convolution layers have a lot of success with images. For this code cell, you should implement the function `conv2d_maxpool` to apply convolution then max pooling:\n",
    "* Create the weight and bias using `conv_ksize`, `conv_num_outputs` and the shape of `x_tensor`.\n",
    "* Apply a convolution to `x_tensor` using weight and `conv_strides`.\n",
    " * We recommend you use same padding, but you're welcome to use any padding.\n",
    "* Add bias\n",
    "* Add a nonlinear activation to the convolution.\n",
    "* Apply Max Pooling using `pool_ksize` and `pool_strides`.\n",
    " * We recommend you use same padding, but you're welcome to use any padding.\n",
    "\n",
    "**Note:** You **can't** use [TensorFlow Layers](https://www.tensorflow.org/api_docs/python/tf/layers) or [TensorFlow Layers (contrib)](https://www.tensorflow.org/api_guides/python/contrib.layers) for **this** layer, but you can still use TensorFlow's [Neural Network](https://www.tensorflow.org/api_docs/python/tf/nn) package. You may still use the shortcut option for all the **other** layers."
   ]
  },
  {
   "cell_type": "code",
   "execution_count": 124,
   "metadata": {},
   "outputs": [
    {
     "name": "stdout",
     "output_type": "stream",
     "text": [
      "Tests Passed\n"
     ]
    }
   ],
   "source": [
    "def conv2d_maxpool(x_tensor, conv_num_outputs, conv_ksize, conv_strides, pool_ksize, pool_strides):\n",
    "    \"\"\"\n",
    "    Apply convolution then max pooling to x_tensor\n",
    "    :param x_tensor: TensorFlow Tensor\n",
    "    :param conv_num_outputs: Number of outputs for the convolutional layer\n",
    "    :param conv_ksize: kernal size 2-D Tuple for the convolutional layer\n",
    "    :param conv_strides: Stride 2-D Tuple for convolution\n",
    "    :param pool_ksize: kernal size 2-D Tuple for pool\n",
    "    :param pool_strides: Stride 2-D Tuple for pool\n",
    "    : return: A tensor that represents convolution and max pooling of x_tensor\n",
    "    \"\"\"    \n",
    "    in_channels = x_tensor.get_shape().as_list()[-1]\n",
    "    weight = tf.truncated_normal([conv_ksize[0], conv_ksize[1], in_channels, conv_num_outputs])\n",
    "    weight = tf.Variable(weight)\n",
    "    convolution = tf.nn.conv2d(x_tensor, weight, [1, conv_strides[0], conv_strides[1], 1], 'SAME')\n",
    "    \n",
    "    bias = tf.zeros(convolution.get_shape().as_list()[1:], dtype=tf.float32)\n",
    "    bias = tf.Variable(bias)\n",
    "    convolution = tf.nn.relu(convolution + bias)\n",
    "    \n",
    "    pooling = tf.nn.max_pool(convolution, [1, pool_ksize[0], pool_ksize[1], 1], [1, pool_strides[0], pool_strides[1], 1], 'SAME')\n",
    "    \n",
    "    return pooling \n",
    "\n",
    "\n",
    "\"\"\"\n",
    "DON'T MODIFY ANYTHING IN THIS CELL THAT IS BELOW THIS LINE\n",
    "\"\"\"\n",
    "tests.test_con_pool(conv2d_maxpool)"
   ]
  },
  {
   "cell_type": "markdown",
   "metadata": {},
   "source": [
    "### Flatten Layer\n",
    "Implement the `flatten` function to change the dimension of `x_tensor` from a 4-D tensor to a 2-D tensor.  The output should be the shape (*Batch Size*, *Flattened Image Size*). Shortcut option: you can use classes from the [TensorFlow Layers](https://www.tensorflow.org/api_docs/python/tf/layers) or [TensorFlow Layers (contrib)](https://www.tensorflow.org/api_guides/python/contrib.layers) packages for this layer. For more of a challenge, only use other TensorFlow packages."
   ]
  },
  {
   "cell_type": "code",
   "execution_count": 64,
   "metadata": {},
   "outputs": [
    {
     "name": "stdout",
     "output_type": "stream",
     "text": [
      "Tests Passed\n"
     ]
    }
   ],
   "source": [
    "def flatten(x_tensor):\n",
    "    \"\"\"\n",
    "    Flatten x_tensor to (Batch Size, Flattened Image Size)\n",
    "    : x_tensor: A tensor of size (Batch Size, ...), where ... are the image dimensions.\n",
    "    : return: A tensor of size (Batch Size, Flattened Image Size).\n",
    "    \"\"\"\n",
    "    _, *flat_shape = x_tensor.get_shape().as_list()\n",
    "    flat_shape = flat_shape[0] * flat_shape[1] * flat_shape[2]\n",
    "    return tf.reshape(x_tensor, [-1, flat_shape])\n",
    "\n",
    "\n",
    "\"\"\"\n",
    "DON'T MODIFY ANYTHING IN THIS CELL THAT IS BELOW THIS LINE\n",
    "\"\"\"\n",
    "tests.test_flatten(flatten)"
   ]
  },
  {
   "cell_type": "markdown",
   "metadata": {},
   "source": [
    "### Fully-Connected Layer\n",
    "Implement the `fully_conn` function to apply a fully connected layer to `x_tensor` with the shape (*Batch Size*, *num_outputs*). Shortcut option: you can use classes from the [TensorFlow Layers](https://www.tensorflow.org/api_docs/python/tf/layers) or [TensorFlow Layers (contrib)](https://www.tensorflow.org/api_guides/python/contrib.layers) packages for this layer. For more of a challenge, only use other TensorFlow packages."
   ]
  },
  {
   "cell_type": "code",
   "execution_count": 100,
   "metadata": {},
   "outputs": [
    {
     "name": "stdout",
     "output_type": "stream",
     "text": [
      "Tests Passed\n"
     ]
    }
   ],
   "source": [
    "def fully_conn(x_tensor, num_outputs):\n",
    "    \"\"\"\n",
    "    Apply a fully connected layer to x_tensor using weight and bias\n",
    "    : x_tensor: A 2-D tensor where the first dimension is batch size.\n",
    "    : num_outputs: The number of output that the new tensor should be.\n",
    "    : return: A 2-D tensor where the second dimension is num_outputs.\n",
    "    \"\"\"\n",
    "#     return tf.layers.dense(x_tensor, num_outputs)\n",
    "    weight = tf.truncated_normal([x_tensor.get_shape().as_list()[1], num_outputs])\n",
    "    weight = tf.Variable(weight, name='dense_weights')\n",
    "    \n",
    "    bias = tf.zeros([1, num_outputs])\n",
    "    bias = tf.Variable(bias, name='dense_bias')\n",
    "    \n",
    "    output = tf.matmul(x_tensor, weight) + bias\n",
    "    output = tf.nn.relu(output)\n",
    "    return output\n",
    "\n",
    "\n",
    "\"\"\"\n",
    "DON'T MODIFY ANYTHING IN THIS CELL THAT IS BELOW THIS LINE\n",
    "\"\"\"\n",
    "tests.test_fully_conn(fully_conn)"
   ]
  },
  {
   "cell_type": "markdown",
   "metadata": {},
   "source": [
    "### Output Layer\n",
    "Implement the `output` function to apply a fully connected layer to `x_tensor` with the shape (*Batch Size*, *num_outputs*). Shortcut option: you can use classes from the [TensorFlow Layers](https://www.tensorflow.org/api_docs/python/tf/layers) or [TensorFlow Layers (contrib)](https://www.tensorflow.org/api_guides/python/contrib.layers) packages for this layer. For more of a challenge, only use other TensorFlow packages.\n",
    "\n",
    "**Note:** Activation, softmax, or cross entropy should **not** be applied to this."
   ]
  },
  {
   "cell_type": "code",
   "execution_count": 99,
   "metadata": {},
   "outputs": [
    {
     "name": "stdout",
     "output_type": "stream",
     "text": [
      "Tests Passed\n"
     ]
    }
   ],
   "source": [
    "def output(x_tensor, num_outputs):\n",
    "    \"\"\"\n",
    "    Apply a output layer to x_tensor using weight and bias\n",
    "    : x_tensor: A 2-D tensor where the first dimension is batch size.\n",
    "    : num_outputs: The number of output that the new tensor should be.\n",
    "    : return: A 2-D tensor where the second dimension is num_outputs.\n",
    "    \"\"\"\n",
    "    weight = tf.truncated_normal([x_tensor.get_shape().as_list()[1], num_outputs])\n",
    "    weight = tf.Variable(weight, name='output_weight')\n",
    "    \n",
    "    bias = tf.zeros([1, num_outputs])\n",
    "    bias = tf.Variable(bias, name='output_bias')\n",
    "    \n",
    "    return tf.matmul(x_tensor, weight) + bias\n",
    "\n",
    "\n",
    "\"\"\"\n",
    "DON'T MODIFY ANYTHING IN THIS CELL THAT IS BELOW THIS LINE\n",
    "\"\"\"\n",
    "tests.test_output(output)"
   ]
  },
  {
   "cell_type": "markdown",
   "metadata": {},
   "source": [
    "### Create Convolutional Model\n",
    "Implement the function `conv_net` to create a convolutional neural network model. The function takes in a batch of images, `x`, and outputs logits.  Use the layers you created above to create this model:\n",
    "\n",
    "* Apply 1, 2, or 3 Convolution and Max Pool layers\n",
    "* Apply a Flatten Layer\n",
    "* Apply 1, 2, or 3 Fully Connected Layers\n",
    "* Apply an Output Layer\n",
    "* Return the output\n",
    "* Apply [TensorFlow's Dropout](https://www.tensorflow.org/api_docs/python/tf/nn/dropout) to one or more layers in the model using `keep_prob`. "
   ]
  },
  {
   "cell_type": "code",
   "execution_count": 304,
   "metadata": {},
   "outputs": [
    {
     "name": "stdout",
     "output_type": "stream",
     "text": [
      "Neural Network Built!\n"
     ]
    }
   ],
   "source": [
    "def conv_net(x, keep_prob):\n",
    "    \"\"\"\n",
    "    Create a convolutional neural network model\n",
    "    : x: Placeholder tensor that holds image data.\n",
    "    : keep_prob: Placeholder tensor that hold dropout keep probability.\n",
    "    : return: Tensor that represents logits\n",
    "    \"\"\"\n",
    "    # convolutions and max-pooling\n",
    "    result = conv2d_maxpool(x, 32, (5,5), (1,1), (2,2), (2,2))\n",
    "    \n",
    "    result = conv2d_maxpool(result, 128, (8,8), (1,1), (2,2), (2,2))\n",
    "    \n",
    "    result = conv2d_maxpool(result, 256, (12,12), (1,1), (2,2), (2,2))\n",
    "\n",
    "    # flatten\n",
    "    result = flatten(result)\n",
    "    \n",
    "    # fully connected layers\n",
    "    result = fully_conn(result, 512)\n",
    "    result = fully_conn(result, 256)\n",
    "    result = fully_conn(result, 128)\n",
    "    result = tf.nn.dropout(result, keep_prob)\n",
    "    \n",
    "    # output layer\n",
    "    result = output(result, 10)\n",
    "    \n",
    "    return result\n",
    "\n",
    "\n",
    "\"\"\"\n",
    "DON'T MODIFY ANYTHING IN THIS CELL THAT IS BELOW THIS LINE\n",
    "\"\"\"\n",
    "\n",
    "##############################\n",
    "## Build the Neural Network ##\n",
    "##############################\n",
    "\n",
    "# Remove previous weights, bias, inputs, etc..\n",
    "tf.reset_default_graph()\n",
    "\n",
    "# Inputs\n",
    "x = neural_net_image_input((32, 32, 3))\n",
    "y = neural_net_label_input(10)\n",
    "keep_prob = neural_net_keep_prob_input()\n",
    "\n",
    "# Model\n",
    "logits = conv_net(x, keep_prob)\n",
    "\n",
    "# Name logits Tensor, so that is can be loaded from disk after training\n",
    "logits = tf.identity(logits, name='logits')\n",
    "\n",
    "# Loss and Optimizer\n",
    "cost = tf.reduce_mean(tf.nn.softmax_cross_entropy_with_logits(logits=logits, labels=y))\n",
    "optimizer = tf.train.AdamOptimizer().minimize(cost)\n",
    "\n",
    "# Accuracy\n",
    "correct_pred = tf.equal(tf.argmax(logits, 1), tf.argmax(y, 1))\n",
    "accuracy = tf.reduce_mean(tf.cast(correct_pred, tf.float32), name='accuracy')\n",
    "\n",
    "tests.test_conv_net(conv_net)"
   ]
  },
  {
   "cell_type": "markdown",
   "metadata": {},
   "source": [
    "## Train the Neural Network\n",
    "### Single Optimization\n",
    "Implement the function `train_neural_network` to do a single optimization.  The optimization should use `optimizer` to optimize in `session` with a `feed_dict` of the following:\n",
    "* `x` for image input\n",
    "* `y` for labels\n",
    "* `keep_prob` for keep probability for dropout\n",
    "\n",
    "This function will be called for each batch, so `tf.global_variables_initializer()` has already been called.\n",
    "\n",
    "Note: Nothing needs to be returned. This function is only optimizing the neural network."
   ]
  },
  {
   "cell_type": "code",
   "execution_count": 305,
   "metadata": {},
   "outputs": [
    {
     "name": "stdout",
     "output_type": "stream",
     "text": [
      "Tests Passed\n"
     ]
    }
   ],
   "source": [
    "def train_neural_network(session, optimizer, keep_probability, feature_batch, label_batch):\n",
    "    \"\"\"\n",
    "    Optimize the session on a batch of images and labels\n",
    "    : session: Current TensorFlow session\n",
    "    : optimizer: TensorFlow optimizer function\n",
    "    : keep_probability: keep probability\n",
    "    : feature_batch: Batch of Numpy image data\n",
    "    : label_batch: Batch of Numpy label data\n",
    "    \"\"\"\n",
    "    session.run(optimizer, feed_dict={x:feature_batch, y:label_batch, keep_prob:keep_probability})\n",
    "\n",
    "\n",
    "\"\"\"\n",
    "DON'T MODIFY ANYTHING IN THIS CELL THAT IS BELOW THIS LINE\n",
    "\"\"\"\n",
    "tests.test_train_nn(train_neural_network)"
   ]
  },
  {
   "cell_type": "markdown",
   "metadata": {},
   "source": [
    "### Show Stats\n",
    "Implement the function `print_stats` to print loss and validation accuracy.  Use the global variables `valid_features` and `valid_labels` to calculate validation accuracy.  Use a keep probability of `1.0` to calculate the loss and validation accuracy."
   ]
  },
  {
   "cell_type": "code",
   "execution_count": 257,
   "metadata": {},
   "outputs": [],
   "source": [
    "def print_stats(session, feature_batch, label_batch, cost, accuracy):\n",
    "    \"\"\"\n",
    "    Print information about loss and validation accuracy\n",
    "    : session: Current TensorFlow session\n",
    "    : feature_batch: Batch of Numpy image data\n",
    "    : label_batch: Batch of Numpy label data\n",
    "    : cost: TensorFlow cost function\n",
    "    : accuracy: TensorFlow accuracy function\n",
    "    \"\"\"\n",
    "    cost_ = session.run(cost, feed_dict={x:feature_batch, y:label_batch, keep_prob:1.0})\n",
    "    accuracy_ = session.run(accuracy, feed_dict={x:valid_features, y:valid_labels, keep_prob:1.0})\n",
    "    print('Training Loss: {0:.2f} \\tValidation Accuracy: {1:.4f}'.format(cost_, accuracy_))"
   ]
  },
  {
   "cell_type": "markdown",
   "metadata": {},
   "source": [
    "### Hyperparameters\n",
    "Tune the following parameters:\n",
    "* Set `epochs` to the number of iterations until the network stops learning or start overfitting\n",
    "* Set `batch_size` to the highest number that your machine has memory for.  Most people set them to common sizes of memory:\n",
    " * 64\n",
    " * 128\n",
    " * 256\n",
    " * ...\n",
    "* Set `keep_probability` to the probability of keeping a node using dropout"
   ]
  },
  {
   "cell_type": "code",
   "execution_count": 306,
   "metadata": {
    "collapsed": true
   },
   "outputs": [],
   "source": [
    "# TODO: Tune Parameters\n",
    "epochs = 1000\n",
    "batch_size = 2048\n",
    "keep_probability = 1"
   ]
  },
  {
   "cell_type": "markdown",
   "metadata": {},
   "source": [
    "### Train on a Single CIFAR-10 Batch\n",
    "Instead of training the neural network on all the CIFAR-10 batches of data, let's use a single batch. This should save time while you iterate on the model to get a better accuracy.  Once the final validation accuracy is 50% or greater, run the model on all the data in the next section."
   ]
  },
  {
   "cell_type": "code",
   "execution_count": 307,
   "metadata": {},
   "outputs": [
    {
     "name": "stdout",
     "output_type": "stream",
     "text": [
      "Checking the Training on a Single Batch...\n",
      "Epoch  1, CIFAR-10 Batch 1:  Training Loss: 139945296.00 \tValidation Accuracy: 0.1340\n",
      "Epoch  2, CIFAR-10 Batch 1:  Training Loss: 77823552.00 \tValidation Accuracy: 0.1274\n",
      "Epoch  3, CIFAR-10 Batch 1:  Training Loss: 58009928.00 \tValidation Accuracy: 0.1642\n",
      "Epoch  4, CIFAR-10 Batch 1:  Training Loss: 45464984.00 \tValidation Accuracy: 0.1750\n",
      "Epoch  5, CIFAR-10 Batch 1:  Training Loss: 36890248.00 \tValidation Accuracy: 0.1976\n",
      "Epoch  6, CIFAR-10 Batch 1:  Training Loss: 32865014.00 \tValidation Accuracy: 0.2092\n",
      "Epoch  7, CIFAR-10 Batch 1:  Training Loss: 29012032.00 \tValidation Accuracy: 0.2184\n",
      "Epoch  8, CIFAR-10 Batch 1:  Training Loss: 25365118.00 \tValidation Accuracy: 0.2264\n",
      "Epoch  9, CIFAR-10 Batch 1:  Training Loss: 23032088.00 \tValidation Accuracy: 0.2382\n",
      "Epoch 10, CIFAR-10 Batch 1:  Training Loss: 20879460.00 \tValidation Accuracy: 0.2356\n",
      "Epoch 11, CIFAR-10 Batch 1:  Training Loss: 19110734.00 \tValidation Accuracy: 0.2394\n",
      "Epoch 12, CIFAR-10 Batch 1:  Training Loss: 18019608.00 \tValidation Accuracy: 0.2488\n",
      "Epoch 13, CIFAR-10 Batch 1:  Training Loss: 16825736.00 \tValidation Accuracy: 0.2572\n",
      "Epoch 14, CIFAR-10 Batch 1:  Training Loss: 15427710.00 \tValidation Accuracy: 0.2632\n",
      "Epoch 15, CIFAR-10 Batch 1:  Training Loss: 14287267.00 \tValidation Accuracy: 0.2636\n",
      "Epoch 16, CIFAR-10 Batch 1:  Training Loss: 13374160.00 \tValidation Accuracy: 0.2706\n",
      "Epoch 17, CIFAR-10 Batch 1:  Training Loss: 12564942.00 \tValidation Accuracy: 0.2718\n",
      "Epoch 18, CIFAR-10 Batch 1:  Training Loss: 11856010.00 \tValidation Accuracy: 0.2722\n",
      "Epoch 19, CIFAR-10 Batch 1:  Training Loss: 11363909.00 \tValidation Accuracy: 0.2762\n",
      "Epoch 20, CIFAR-10 Batch 1:  Training Loss: 11108424.00 \tValidation Accuracy: 0.2774\n",
      "Epoch 21, CIFAR-10 Batch 1:  Training Loss: 10528663.00 \tValidation Accuracy: 0.2780\n",
      "Epoch 22, CIFAR-10 Batch 1:  Training Loss: 9715020.00 \tValidation Accuracy: 0.2798\n",
      "Epoch 23, CIFAR-10 Batch 1:  Training Loss: 8704314.00 \tValidation Accuracy: 0.2888\n",
      "Epoch 24, CIFAR-10 Batch 1:  Training Loss: 8359921.50 \tValidation Accuracy: 0.2902\n",
      "Epoch 25, CIFAR-10 Batch 1:  Training Loss: 8190500.00 \tValidation Accuracy: 0.2896\n",
      "Epoch 26, CIFAR-10 Batch 1:  Training Loss: 7825447.50 \tValidation Accuracy: 0.2914\n",
      "Epoch 27, CIFAR-10 Batch 1:  Training Loss: 7073784.50 \tValidation Accuracy: 0.2986\n",
      "Epoch 28, CIFAR-10 Batch 1:  Training Loss: 6747585.00 \tValidation Accuracy: 0.3008\n",
      "Epoch 29, CIFAR-10 Batch 1:  Training Loss: 6776567.50 \tValidation Accuracy: 0.2976\n",
      "Epoch 30, CIFAR-10 Batch 1:  Training Loss: 6912427.50 \tValidation Accuracy: 0.2906\n",
      "Epoch 31, CIFAR-10 Batch 1:  Training Loss: 6359235.00 \tValidation Accuracy: 0.3016\n",
      "Epoch 32, CIFAR-10 Batch 1:  Training Loss: 5589438.50 \tValidation Accuracy: 0.3098\n",
      "Epoch 33, CIFAR-10 Batch 1:  Training Loss: 5103708.00 \tValidation Accuracy: 0.3056\n",
      "Epoch 34, CIFAR-10 Batch 1:  Training Loss: 5253063.50 \tValidation Accuracy: 0.3024\n",
      "Epoch 35, CIFAR-10 Batch 1:  Training Loss: 4876500.00 \tValidation Accuracy: 0.3034\n",
      "Epoch 36, CIFAR-10 Batch 1:  Training Loss: 4642456.00 \tValidation Accuracy: 0.3082\n",
      "Epoch 37, CIFAR-10 Batch 1:  Training Loss: 4220804.00 \tValidation Accuracy: 0.3108\n",
      "Epoch 38, CIFAR-10 Batch 1:  Training Loss: 3983580.00 \tValidation Accuracy: 0.3144\n",
      "Epoch 39, CIFAR-10 Batch 1:  Training Loss: 4686587.00 \tValidation Accuracy: 0.3046\n",
      "Epoch 40, CIFAR-10 Batch 1:  Training Loss: 4074755.75 \tValidation Accuracy: 0.3056\n",
      "Epoch 41, CIFAR-10 Batch 1:  Training Loss: 3420384.50 \tValidation Accuracy: 0.3112\n",
      "Epoch 42, CIFAR-10 Batch 1:  Training Loss: 3302757.75 \tValidation Accuracy: 0.3196\n",
      "Epoch 43, CIFAR-10 Batch 1:  Training Loss: 3412503.00 \tValidation Accuracy: 0.3146\n",
      "Epoch 44, CIFAR-10 Batch 1:  Training Loss: 3188012.75 \tValidation Accuracy: 0.3074\n",
      "Epoch 45, CIFAR-10 Batch 1:  Training Loss: 3328199.00 \tValidation Accuracy: 0.3112\n",
      "Epoch 46, CIFAR-10 Batch 1:  Training Loss: 2643971.25 \tValidation Accuracy: 0.3146\n",
      "Epoch 47, CIFAR-10 Batch 1:  Training Loss: 3033167.25 \tValidation Accuracy: 0.3178\n",
      "Epoch 48, CIFAR-10 Batch 1:  Training Loss: 2659030.00 \tValidation Accuracy: 0.3152\n",
      "Epoch 49, CIFAR-10 Batch 1:  Training Loss: 2912696.25 \tValidation Accuracy: 0.3148\n",
      "Epoch 50, CIFAR-10 Batch 1:  Training Loss: 3055072.25 \tValidation Accuracy: 0.3132\n",
      "Epoch 51, CIFAR-10 Batch 1:  Training Loss: 2325611.00 \tValidation Accuracy: 0.3186\n",
      "Epoch 52, CIFAR-10 Batch 1:  Training Loss: 2796025.25 \tValidation Accuracy: 0.3140\n",
      "Epoch 53, CIFAR-10 Batch 1:  Training Loss: 3188468.75 \tValidation Accuracy: 0.3146\n",
      "Epoch 54, CIFAR-10 Batch 1:  Training Loss: 2802670.75 \tValidation Accuracy: 0.3218\n",
      "Epoch 55, CIFAR-10 Batch 1:  Training Loss: 1840283.50 \tValidation Accuracy: 0.3282\n",
      "Epoch 56, CIFAR-10 Batch 1:  Training Loss: 1645095.62 \tValidation Accuracy: 0.3230\n",
      "Epoch 57, CIFAR-10 Batch 1:  Training Loss: 1854040.62 \tValidation Accuracy: 0.3254\n",
      "Epoch 58, CIFAR-10 Batch 1:  Training Loss: 2006097.50 \tValidation Accuracy: 0.3224\n",
      "Epoch 59, CIFAR-10 Batch 1:  Training Loss: 2011594.88 \tValidation Accuracy: 0.3208\n",
      "Epoch 60, CIFAR-10 Batch 1:  Training Loss: 1745145.75 \tValidation Accuracy: 0.3206\n",
      "Epoch 61, CIFAR-10 Batch 1:  Training Loss: 2276994.50 \tValidation Accuracy: 0.3246\n",
      "Epoch 62, CIFAR-10 Batch 1:  Training Loss: 1764445.50 \tValidation Accuracy: 0.3282\n",
      "Epoch 63, CIFAR-10 Batch 1:  Training Loss: 1518191.38 \tValidation Accuracy: 0.3244\n",
      "Epoch 64, CIFAR-10 Batch 1:  Training Loss: 1973670.50 \tValidation Accuracy: 0.3200\n",
      "Epoch 65, CIFAR-10 Batch 1:  Training Loss: 1655209.12 \tValidation Accuracy: 0.3218\n",
      "Epoch 66, CIFAR-10 Batch 1:  Training Loss: 3616405.25 \tValidation Accuracy: 0.3022\n",
      "Epoch 67, CIFAR-10 Batch 1:  Training Loss: 4394847.50 \tValidation Accuracy: 0.2908\n",
      "Epoch 68, CIFAR-10 Batch 1:  Training Loss: 2007430.38 \tValidation Accuracy: 0.3138\n",
      "Epoch 69, CIFAR-10 Batch 1:  Training Loss: 2201973.75 \tValidation Accuracy: 0.3354\n",
      "Epoch 70, CIFAR-10 Batch 1:  Training Loss: 1933018.00 \tValidation Accuracy: 0.3402\n",
      "Epoch 71, CIFAR-10 Batch 1:  Training Loss: 1502454.00 \tValidation Accuracy: 0.3352\n",
      "Epoch 72, CIFAR-10 Batch 1:  Training Loss: 935279.12 \tValidation Accuracy: 0.3452\n",
      "Epoch 73, CIFAR-10 Batch 1:  Training Loss: 882721.56 \tValidation Accuracy: 0.3380\n",
      "Epoch 74, CIFAR-10 Batch 1:  Training Loss: 1376410.25 \tValidation Accuracy: 0.3266\n",
      "Epoch 75, CIFAR-10 Batch 1:  Training Loss: 1521582.38 \tValidation Accuracy: 0.3246\n",
      "Epoch 76, CIFAR-10 Batch 1:  Training Loss: 1213258.50 \tValidation Accuracy: 0.3290\n",
      "Epoch 77, CIFAR-10 Batch 1:  Training Loss: 716593.62 \tValidation Accuracy: 0.3396\n",
      "Epoch 78, CIFAR-10 Batch 1:  Training Loss: 497060.88 \tValidation Accuracy: 0.3458\n",
      "Epoch 79, CIFAR-10 Batch 1:  Training Loss: 738551.12 \tValidation Accuracy: 0.3484\n",
      "Epoch 80, CIFAR-10 Batch 1:  Training Loss: 1240464.75 \tValidation Accuracy: 0.3438\n",
      "Epoch 81, CIFAR-10 Batch 1:  Training Loss: 1499595.25 \tValidation Accuracy: 0.3438\n",
      "Epoch 82, CIFAR-10 Batch 1:  Training Loss: 1007625.00 \tValidation Accuracy: 0.3484\n",
      "Epoch 83, CIFAR-10 Batch 1:  Training Loss: 566552.56 \tValidation Accuracy: 0.3456\n",
      "Epoch 84, CIFAR-10 Batch 1:  Training Loss: 394687.06 \tValidation Accuracy: 0.3478\n",
      "Epoch 85, CIFAR-10 Batch 1:  Training Loss: 561141.38 \tValidation Accuracy: 0.3398\n",
      "Epoch 86, CIFAR-10 Batch 1:  Training Loss: 1204386.75 \tValidation Accuracy: 0.3292\n",
      "Epoch 87, CIFAR-10 Batch 1:  Training Loss: 1255857.12 \tValidation Accuracy: 0.3280\n",
      "Epoch 88, CIFAR-10 Batch 1:  Training Loss: 700806.94 \tValidation Accuracy: 0.3418\n",
      "Epoch 89, CIFAR-10 Batch 1:  Training Loss: 339244.06 \tValidation Accuracy: 0.3454\n",
      "Epoch 90, CIFAR-10 Batch 1:  Training Loss: 296539.72 \tValidation Accuracy: 0.3500\n",
      "Epoch 91, CIFAR-10 Batch 1:  Training Loss: 468569.81 \tValidation Accuracy: 0.3480\n",
      "Epoch 92, CIFAR-10 Batch 1:  Training Loss: 1369079.75 \tValidation Accuracy: 0.3366\n",
      "Epoch 93, CIFAR-10 Batch 1:  Training Loss: 1149889.12 \tValidation Accuracy: 0.3410\n",
      "Epoch 94, CIFAR-10 Batch 1:  Training Loss: 248033.52 \tValidation Accuracy: 0.3542\n",
      "Epoch 95, CIFAR-10 Batch 1:  Training Loss: 250543.89 \tValidation Accuracy: 0.3528\n",
      "Epoch 96, CIFAR-10 Batch 1:  Training Loss: 559658.25 \tValidation Accuracy: 0.3436\n",
      "Epoch 97, CIFAR-10 Batch 1:  Training Loss: 1046851.81 \tValidation Accuracy: 0.3302\n"
     ]
    },
    {
     "name": "stdout",
     "output_type": "stream",
     "text": [
      "Epoch 98, CIFAR-10 Batch 1:  Training Loss: 965151.81 \tValidation Accuracy: 0.3390\n",
      "Epoch 99, CIFAR-10 Batch 1:  Training Loss: 730677.25 \tValidation Accuracy: 0.3392\n",
      "Epoch 100, CIFAR-10 Batch 1:  Training Loss: 398366.03 \tValidation Accuracy: 0.3468\n",
      "Epoch 101, CIFAR-10 Batch 1:  Training Loss: 1094567.00 \tValidation Accuracy: 0.3414\n",
      "Epoch 102, CIFAR-10 Batch 1:  Training Loss: 2788976.50 \tValidation Accuracy: 0.3294\n",
      "Epoch 103, CIFAR-10 Batch 1:  Training Loss: 2027881.25 \tValidation Accuracy: 0.3298\n",
      "Epoch 104, CIFAR-10 Batch 1:  Training Loss: 4076345.50 \tValidation Accuracy: 0.3224\n",
      "Epoch 105, CIFAR-10 Batch 1:  Training Loss: 5249458.00 \tValidation Accuracy: 0.3112\n",
      "Epoch 106, CIFAR-10 Batch 1:  Training Loss: 1212692.12 \tValidation Accuracy: 0.3508\n",
      "Epoch 107, CIFAR-10 Batch 1:  Training Loss: 2731726.50 \tValidation Accuracy: 0.3326\n",
      "Epoch 108, CIFAR-10 Batch 1:  Training Loss: 2303131.25 \tValidation Accuracy: 0.3388\n",
      "Epoch 109, CIFAR-10 Batch 1:  Training Loss: 2451069.00 \tValidation Accuracy: 0.3390\n",
      "Epoch 110, CIFAR-10 Batch 1:  Training Loss: 607158.62 \tValidation Accuracy: 0.3518\n",
      "Epoch 111, CIFAR-10 Batch 1:  Training Loss: 335885.25 \tValidation Accuracy: 0.3594\n",
      "Epoch 112, CIFAR-10 Batch 1:  Training Loss: 438152.03 \tValidation Accuracy: 0.3572\n",
      "Epoch 113, CIFAR-10 Batch 1:  Training Loss: 160778.77 \tValidation Accuracy: 0.3594\n",
      "Epoch 114, CIFAR-10 Batch 1:  Training Loss: 163243.52 \tValidation Accuracy: 0.3622\n",
      "Epoch 115, CIFAR-10 Batch 1:  Training Loss: 106012.27 \tValidation Accuracy: 0.3646\n",
      "Epoch 116, CIFAR-10 Batch 1:  Training Loss: 194781.73 \tValidation Accuracy: 0.3614\n",
      "Epoch 117, CIFAR-10 Batch 1:  Training Loss: 190551.56 \tValidation Accuracy: 0.3602\n",
      "Epoch 118, CIFAR-10 Batch 1:  Training Loss: 309882.75 \tValidation Accuracy: 0.3556\n",
      "Epoch 119, CIFAR-10 Batch 1:  Training Loss: 1118358.25 \tValidation Accuracy: 0.3322\n",
      "Epoch 120, CIFAR-10 Batch 1:  Training Loss: 2121077.00 \tValidation Accuracy: 0.3226\n",
      "Epoch 121, CIFAR-10 Batch 1:  Training Loss: 2461308.00 \tValidation Accuracy: 0.3238\n",
      "Epoch 122, CIFAR-10 Batch 1:  Training Loss: 475796.50 \tValidation Accuracy: 0.3586\n",
      "Epoch 123, CIFAR-10 Batch 1:  Training Loss: 141095.27 \tValidation Accuracy: 0.3568\n",
      "Epoch 124, CIFAR-10 Batch 1:  Training Loss: 107336.41 \tValidation Accuracy: 0.3626\n",
      "Epoch 125, CIFAR-10 Batch 1:  Training Loss: 172232.03 \tValidation Accuracy: 0.3618\n",
      "Epoch 126, CIFAR-10 Batch 1:  Training Loss: 309359.12 \tValidation Accuracy: 0.3580\n",
      "Epoch 127, CIFAR-10 Batch 1:  Training Loss: 186960.72 \tValidation Accuracy: 0.3646\n",
      "Epoch 128, CIFAR-10 Batch 1:  Training Loss: 119255.56 \tValidation Accuracy: 0.3686\n",
      "Epoch 129, CIFAR-10 Batch 1:  Training Loss: 36962.98 \tValidation Accuracy: 0.3640\n",
      "Epoch 130, CIFAR-10 Batch 1:  Training Loss: 223802.64 \tValidation Accuracy: 0.3558\n",
      "Epoch 131, CIFAR-10 Batch 1:  Training Loss: 639778.62 \tValidation Accuracy: 0.3402\n",
      "Epoch 132, CIFAR-10 Batch 1:  Training Loss: 766206.88 \tValidation Accuracy: 0.3462\n",
      "Epoch 133, CIFAR-10 Batch 1:  Training Loss: 327866.66 \tValidation Accuracy: 0.3546\n",
      "Epoch 134, CIFAR-10 Batch 1:  Training Loss: 36103.71 \tValidation Accuracy: 0.3658\n",
      "Epoch 135, CIFAR-10 Batch 1:  Training Loss: 51484.64 \tValidation Accuracy: 0.3646\n",
      "Epoch 136, CIFAR-10 Batch 1:  Training Loss: 188504.80 \tValidation Accuracy: 0.3572\n",
      "Epoch 137, CIFAR-10 Batch 1:  Training Loss: 295074.38 \tValidation Accuracy: 0.3566\n",
      "Epoch 138, CIFAR-10 Batch 1:  Training Loss: 183689.50 \tValidation Accuracy: 0.3632\n",
      "Epoch 139, CIFAR-10 Batch 1:  Training Loss: 46784.23 \tValidation Accuracy: 0.3668\n",
      "Epoch 140, CIFAR-10 Batch 1:  Training Loss: 20708.38 \tValidation Accuracy: 0.3678\n",
      "Epoch 141, CIFAR-10 Batch 1:  Training Loss: 239857.72 \tValidation Accuracy: 0.3550\n",
      "Epoch 142, CIFAR-10 Batch 1:  Training Loss: 417057.84 \tValidation Accuracy: 0.3526\n",
      "Epoch 143, CIFAR-10 Batch 1:  Training Loss: 225948.20 \tValidation Accuracy: 0.3556\n",
      "Epoch 144, CIFAR-10 Batch 1:  Training Loss: 33280.81 \tValidation Accuracy: 0.3684\n",
      "Epoch 145, CIFAR-10 Batch 1:  Training Loss: 21284.80 \tValidation Accuracy: 0.3636\n",
      "Epoch 146, CIFAR-10 Batch 1:  Training Loss: 74075.11 \tValidation Accuracy: 0.3618\n",
      "Epoch 147, CIFAR-10 Batch 1:  Training Loss: 31556.98 \tValidation Accuracy: 0.3616\n"
     ]
    },
    {
     "ename": "KeyboardInterrupt",
     "evalue": "",
     "output_type": "error",
     "traceback": [
      "\u001b[0;31m---------------------------------------------------------------------------\u001b[0m",
      "\u001b[0;31mKeyboardInterrupt\u001b[0m                         Traceback (most recent call last)",
      "\u001b[0;32m<ipython-input-307-0ebd1bbc35ad>\u001b[0m in \u001b[0;36m<module>\u001b[0;34m()\u001b[0m\n\u001b[1;32m     11\u001b[0m         \u001b[0mbatch_i\u001b[0m \u001b[0;34m=\u001b[0m \u001b[0;36m1\u001b[0m\u001b[0;34m\u001b[0m\u001b[0m\n\u001b[1;32m     12\u001b[0m         \u001b[0;32mfor\u001b[0m \u001b[0mbatch_features\u001b[0m\u001b[0;34m,\u001b[0m \u001b[0mbatch_labels\u001b[0m \u001b[0;32min\u001b[0m \u001b[0mhelper\u001b[0m\u001b[0;34m.\u001b[0m\u001b[0mload_preprocess_training_batch\u001b[0m\u001b[0;34m(\u001b[0m\u001b[0mbatch_i\u001b[0m\u001b[0;34m,\u001b[0m \u001b[0mbatch_size\u001b[0m\u001b[0;34m)\u001b[0m\u001b[0;34m:\u001b[0m\u001b[0;34m\u001b[0m\u001b[0m\n\u001b[0;32m---> 13\u001b[0;31m             \u001b[0mtrain_neural_network\u001b[0m\u001b[0;34m(\u001b[0m\u001b[0msess\u001b[0m\u001b[0;34m,\u001b[0m \u001b[0moptimizer\u001b[0m\u001b[0;34m,\u001b[0m \u001b[0mkeep_probability\u001b[0m\u001b[0;34m,\u001b[0m \u001b[0mbatch_features\u001b[0m\u001b[0;34m,\u001b[0m \u001b[0mbatch_labels\u001b[0m\u001b[0;34m)\u001b[0m\u001b[0;34m\u001b[0m\u001b[0m\n\u001b[0m\u001b[1;32m     14\u001b[0m         \u001b[0mprint\u001b[0m\u001b[0;34m(\u001b[0m\u001b[0;34m'Epoch {:>2}, CIFAR-10 Batch {}:  '\u001b[0m\u001b[0;34m.\u001b[0m\u001b[0mformat\u001b[0m\u001b[0;34m(\u001b[0m\u001b[0mepoch\u001b[0m \u001b[0;34m+\u001b[0m \u001b[0;36m1\u001b[0m\u001b[0;34m,\u001b[0m \u001b[0mbatch_i\u001b[0m\u001b[0;34m)\u001b[0m\u001b[0;34m,\u001b[0m \u001b[0mend\u001b[0m\u001b[0;34m=\u001b[0m\u001b[0;34m''\u001b[0m\u001b[0;34m)\u001b[0m\u001b[0;34m\u001b[0m\u001b[0m\n\u001b[1;32m     15\u001b[0m         \u001b[0mprint_stats\u001b[0m\u001b[0;34m(\u001b[0m\u001b[0msess\u001b[0m\u001b[0;34m,\u001b[0m \u001b[0mbatch_features\u001b[0m\u001b[0;34m,\u001b[0m \u001b[0mbatch_labels\u001b[0m\u001b[0;34m,\u001b[0m \u001b[0mcost\u001b[0m\u001b[0;34m,\u001b[0m \u001b[0maccuracy\u001b[0m\u001b[0;34m)\u001b[0m\u001b[0;34m\u001b[0m\u001b[0m\n",
      "\u001b[0;32m<ipython-input-305-6ab2a4e28909>\u001b[0m in \u001b[0;36mtrain_neural_network\u001b[0;34m(session, optimizer, keep_probability, feature_batch, label_batch)\u001b[0m\n\u001b[1;32m      8\u001b[0m     \u001b[0;34m:\u001b[0m \u001b[0mlabel_batch\u001b[0m\u001b[0;34m:\u001b[0m \u001b[0mBatch\u001b[0m \u001b[0mof\u001b[0m \u001b[0mNumpy\u001b[0m \u001b[0mlabel\u001b[0m \u001b[0mdata\u001b[0m\u001b[0;34m\u001b[0m\u001b[0m\n\u001b[1;32m      9\u001b[0m     \"\"\"\n\u001b[0;32m---> 10\u001b[0;31m     \u001b[0msession\u001b[0m\u001b[0;34m.\u001b[0m\u001b[0mrun\u001b[0m\u001b[0;34m(\u001b[0m\u001b[0moptimizer\u001b[0m\u001b[0;34m,\u001b[0m \u001b[0mfeed_dict\u001b[0m\u001b[0;34m=\u001b[0m\u001b[0;34m{\u001b[0m\u001b[0mx\u001b[0m\u001b[0;34m:\u001b[0m\u001b[0mfeature_batch\u001b[0m\u001b[0;34m,\u001b[0m \u001b[0my\u001b[0m\u001b[0;34m:\u001b[0m\u001b[0mlabel_batch\u001b[0m\u001b[0;34m,\u001b[0m \u001b[0mkeep_prob\u001b[0m\u001b[0;34m:\u001b[0m\u001b[0mkeep_probability\u001b[0m\u001b[0;34m}\u001b[0m\u001b[0;34m)\u001b[0m\u001b[0;34m\u001b[0m\u001b[0m\n\u001b[0m\u001b[1;32m     11\u001b[0m \u001b[0;34m\u001b[0m\u001b[0m\n\u001b[1;32m     12\u001b[0m \u001b[0;34m\u001b[0m\u001b[0m\n",
      "\u001b[0;32m/usr/local/lib/python3.5/site-packages/tensorflow/python/client/session.py\u001b[0m in \u001b[0;36mrun\u001b[0;34m(self, fetches, feed_dict, options, run_metadata)\u001b[0m\n\u001b[1;32m    776\u001b[0m     \u001b[0;32mtry\u001b[0m\u001b[0;34m:\u001b[0m\u001b[0;34m\u001b[0m\u001b[0m\n\u001b[1;32m    777\u001b[0m       result = self._run(None, fetches, feed_dict, options_ptr,\n\u001b[0;32m--> 778\u001b[0;31m                          run_metadata_ptr)\n\u001b[0m\u001b[1;32m    779\u001b[0m       \u001b[0;32mif\u001b[0m \u001b[0mrun_metadata\u001b[0m\u001b[0;34m:\u001b[0m\u001b[0;34m\u001b[0m\u001b[0m\n\u001b[1;32m    780\u001b[0m         \u001b[0mproto_data\u001b[0m \u001b[0;34m=\u001b[0m \u001b[0mtf_session\u001b[0m\u001b[0;34m.\u001b[0m\u001b[0mTF_GetBuffer\u001b[0m\u001b[0;34m(\u001b[0m\u001b[0mrun_metadata_ptr\u001b[0m\u001b[0;34m)\u001b[0m\u001b[0;34m\u001b[0m\u001b[0m\n",
      "\u001b[0;32m/usr/local/lib/python3.5/site-packages/tensorflow/python/client/session.py\u001b[0m in \u001b[0;36m_run\u001b[0;34m(self, handle, fetches, feed_dict, options, run_metadata)\u001b[0m\n\u001b[1;32m    980\u001b[0m     \u001b[0;32mif\u001b[0m \u001b[0mfinal_fetches\u001b[0m \u001b[0;32mor\u001b[0m \u001b[0mfinal_targets\u001b[0m\u001b[0;34m:\u001b[0m\u001b[0;34m\u001b[0m\u001b[0m\n\u001b[1;32m    981\u001b[0m       results = self._do_run(handle, final_targets, final_fetches,\n\u001b[0;32m--> 982\u001b[0;31m                              feed_dict_string, options, run_metadata)\n\u001b[0m\u001b[1;32m    983\u001b[0m     \u001b[0;32melse\u001b[0m\u001b[0;34m:\u001b[0m\u001b[0;34m\u001b[0m\u001b[0m\n\u001b[1;32m    984\u001b[0m       \u001b[0mresults\u001b[0m \u001b[0;34m=\u001b[0m \u001b[0;34m[\u001b[0m\u001b[0;34m]\u001b[0m\u001b[0;34m\u001b[0m\u001b[0m\n",
      "\u001b[0;32m/usr/local/lib/python3.5/site-packages/tensorflow/python/client/session.py\u001b[0m in \u001b[0;36m_do_run\u001b[0;34m(self, handle, target_list, fetch_list, feed_dict, options, run_metadata)\u001b[0m\n\u001b[1;32m   1030\u001b[0m     \u001b[0;32mif\u001b[0m \u001b[0mhandle\u001b[0m \u001b[0;32mis\u001b[0m \u001b[0;32mNone\u001b[0m\u001b[0;34m:\u001b[0m\u001b[0;34m\u001b[0m\u001b[0m\n\u001b[1;32m   1031\u001b[0m       return self._do_call(_run_fn, self._session, feed_dict, fetch_list,\n\u001b[0;32m-> 1032\u001b[0;31m                            target_list, options, run_metadata)\n\u001b[0m\u001b[1;32m   1033\u001b[0m     \u001b[0;32melse\u001b[0m\u001b[0;34m:\u001b[0m\u001b[0;34m\u001b[0m\u001b[0m\n\u001b[1;32m   1034\u001b[0m       return self._do_call(_prun_fn, self._session, handle, feed_dict,\n",
      "\u001b[0;32m/usr/local/lib/python3.5/site-packages/tensorflow/python/client/session.py\u001b[0m in \u001b[0;36m_do_call\u001b[0;34m(self, fn, *args)\u001b[0m\n\u001b[1;32m   1037\u001b[0m   \u001b[0;32mdef\u001b[0m \u001b[0m_do_call\u001b[0m\u001b[0;34m(\u001b[0m\u001b[0mself\u001b[0m\u001b[0;34m,\u001b[0m \u001b[0mfn\u001b[0m\u001b[0;34m,\u001b[0m \u001b[0;34m*\u001b[0m\u001b[0margs\u001b[0m\u001b[0;34m)\u001b[0m\u001b[0;34m:\u001b[0m\u001b[0;34m\u001b[0m\u001b[0m\n\u001b[1;32m   1038\u001b[0m     \u001b[0;32mtry\u001b[0m\u001b[0;34m:\u001b[0m\u001b[0;34m\u001b[0m\u001b[0m\n\u001b[0;32m-> 1039\u001b[0;31m       \u001b[0;32mreturn\u001b[0m \u001b[0mfn\u001b[0m\u001b[0;34m(\u001b[0m\u001b[0;34m*\u001b[0m\u001b[0margs\u001b[0m\u001b[0;34m)\u001b[0m\u001b[0;34m\u001b[0m\u001b[0m\n\u001b[0m\u001b[1;32m   1040\u001b[0m     \u001b[0;32mexcept\u001b[0m \u001b[0merrors\u001b[0m\u001b[0;34m.\u001b[0m\u001b[0mOpError\u001b[0m \u001b[0;32mas\u001b[0m \u001b[0me\u001b[0m\u001b[0;34m:\u001b[0m\u001b[0;34m\u001b[0m\u001b[0m\n\u001b[1;32m   1041\u001b[0m       \u001b[0mmessage\u001b[0m \u001b[0;34m=\u001b[0m \u001b[0mcompat\u001b[0m\u001b[0;34m.\u001b[0m\u001b[0mas_text\u001b[0m\u001b[0;34m(\u001b[0m\u001b[0me\u001b[0m\u001b[0;34m.\u001b[0m\u001b[0mmessage\u001b[0m\u001b[0;34m)\u001b[0m\u001b[0;34m\u001b[0m\u001b[0m\n",
      "\u001b[0;32m/usr/local/lib/python3.5/site-packages/tensorflow/python/client/session.py\u001b[0m in \u001b[0;36m_run_fn\u001b[0;34m(session, feed_dict, fetch_list, target_list, options, run_metadata)\u001b[0m\n\u001b[1;32m   1019\u001b[0m         return tf_session.TF_Run(session, options,\n\u001b[1;32m   1020\u001b[0m                                  \u001b[0mfeed_dict\u001b[0m\u001b[0;34m,\u001b[0m \u001b[0mfetch_list\u001b[0m\u001b[0;34m,\u001b[0m \u001b[0mtarget_list\u001b[0m\u001b[0;34m,\u001b[0m\u001b[0;34m\u001b[0m\u001b[0m\n\u001b[0;32m-> 1021\u001b[0;31m                                  status, run_metadata)\n\u001b[0m\u001b[1;32m   1022\u001b[0m \u001b[0;34m\u001b[0m\u001b[0m\n\u001b[1;32m   1023\u001b[0m     \u001b[0;32mdef\u001b[0m \u001b[0m_prun_fn\u001b[0m\u001b[0;34m(\u001b[0m\u001b[0msession\u001b[0m\u001b[0;34m,\u001b[0m \u001b[0mhandle\u001b[0m\u001b[0;34m,\u001b[0m \u001b[0mfeed_dict\u001b[0m\u001b[0;34m,\u001b[0m \u001b[0mfetch_list\u001b[0m\u001b[0;34m)\u001b[0m\u001b[0;34m:\u001b[0m\u001b[0;34m\u001b[0m\u001b[0m\n",
      "\u001b[0;31mKeyboardInterrupt\u001b[0m: "
     ]
    }
   ],
   "source": [
    "\"\"\"\n",
    "DON'T MODIFY ANYTHING IN THIS CELL\n",
    "\"\"\"\n",
    "print('Checking the Training on a Single Batch...')\n",
    "with tf.Session() as sess:\n",
    "    # Initializing the variables\n",
    "    sess.run(tf.global_variables_initializer())\n",
    "    \n",
    "    # Training cycle\n",
    "    for epoch in range(epochs):\n",
    "        batch_i = 1\n",
    "        for batch_features, batch_labels in helper.load_preprocess_training_batch(batch_i, batch_size):\n",
    "            train_neural_network(sess, optimizer, keep_probability, batch_features, batch_labels)\n",
    "        print('Epoch {:>2}, CIFAR-10 Batch {}:  '.format(epoch + 1, batch_i), end='')\n",
    "        print_stats(sess, batch_features, batch_labels, cost, accuracy)"
   ]
  },
  {
   "cell_type": "markdown",
   "metadata": {},
   "source": [
    "### Fully Train the Model\n",
    "Now that you got a good accuracy with a single CIFAR-10 batch, try it with all five batches."
   ]
  },
  {
   "cell_type": "code",
   "execution_count": null,
   "metadata": {},
   "outputs": [],
   "source": [
    "\"\"\"\n",
    "DON'T MODIFY ANYTHING IN THIS CELL\n",
    "\"\"\"\n",
    "save_model_path = './image_classification'\n",
    "\n",
    "print('Training...')\n",
    "with tf.Session() as sess:\n",
    "    # Initializing the variables\n",
    "    sess.run(tf.global_variables_initializer())\n",
    "    \n",
    "    # Training cycle\n",
    "    for epoch in range(epochs):\n",
    "        # Loop over all batches\n",
    "        n_batches = 5\n",
    "        for batch_i in range(1, n_batches + 1):\n",
    "            for batch_features, batch_labels in helper.load_preprocess_training_batch(batch_i, batch_size):\n",
    "                train_neural_network(sess, optimizer, keep_probability, batch_features, batch_labels)\n",
    "            print('Epoch {:>2}, CIFAR-10 Batch {}:  '.format(epoch + 1, batch_i), end='')\n",
    "            print_stats(sess, batch_features, batch_labels, cost, accuracy)\n",
    "            \n",
    "    # Save Model\n",
    "    saver = tf.train.Saver()\n",
    "    save_path = saver.save(sess, save_model_path)"
   ]
  },
  {
   "cell_type": "markdown",
   "metadata": {},
   "source": [
    "# Checkpoint\n",
    "The model has been saved to disk.\n",
    "## Test Model\n",
    "Test your model against the test dataset.  This will be your final accuracy. You should have an accuracy greater than 50%. If you don't, keep tweaking the model architecture and parameters."
   ]
  },
  {
   "cell_type": "code",
   "execution_count": null,
   "metadata": {},
   "outputs": [],
   "source": [
    "\"\"\"\n",
    "DON'T MODIFY ANYTHING IN THIS CELL\n",
    "\"\"\"\n",
    "%matplotlib inline\n",
    "%config InlineBackend.figure_format = 'retina'\n",
    "\n",
    "import tensorflow as tf\n",
    "import pickle\n",
    "import helper\n",
    "import random\n",
    "\n",
    "# Set batch size if not already set\n",
    "try:\n",
    "    if batch_size:\n",
    "        pass\n",
    "except NameError:\n",
    "    batch_size = 64\n",
    "\n",
    "save_model_path = './image_classification'\n",
    "n_samples = 4\n",
    "top_n_predictions = 3\n",
    "\n",
    "def test_model():\n",
    "    \"\"\"\n",
    "    Test the saved model against the test dataset\n",
    "    \"\"\"\n",
    "\n",
    "    test_features, test_labels = pickle.load(open('preprocess_test.p', mode='rb'))\n",
    "    loaded_graph = tf.Graph()\n",
    "\n",
    "    with tf.Session(graph=loaded_graph) as sess:\n",
    "        # Load model\n",
    "        loader = tf.train.import_meta_graph(save_model_path + '.meta')\n",
    "        loader.restore(sess, save_model_path)\n",
    "\n",
    "        # Get Tensors from loaded model\n",
    "        loaded_x = loaded_graph.get_tensor_by_name('x:0')\n",
    "        loaded_y = loaded_graph.get_tensor_by_name('y:0')\n",
    "        loaded_keep_prob = loaded_graph.get_tensor_by_name('keep_prob:0')\n",
    "        loaded_logits = loaded_graph.get_tensor_by_name('logits:0')\n",
    "        loaded_acc = loaded_graph.get_tensor_by_name('accuracy:0')\n",
    "        \n",
    "        # Get accuracy in batches for memory limitations\n",
    "        test_batch_acc_total = 0\n",
    "        test_batch_count = 0\n",
    "        \n",
    "        for test_feature_batch, test_label_batch in helper.batch_features_labels(test_features, test_labels, batch_size):\n",
    "            test_batch_acc_total += sess.run(\n",
    "                loaded_acc,\n",
    "                feed_dict={loaded_x: test_feature_batch, loaded_y: test_label_batch, loaded_keep_prob: 1.0})\n",
    "            test_batch_count += 1\n",
    "\n",
    "        print('Testing Accuracy: {}\\n'.format(test_batch_acc_total/test_batch_count))\n",
    "\n",
    "        # Print Random Samples\n",
    "        random_test_features, random_test_labels = tuple(zip(*random.sample(list(zip(test_features, test_labels)), n_samples)))\n",
    "        random_test_predictions = sess.run(\n",
    "            tf.nn.top_k(tf.nn.softmax(loaded_logits), top_n_predictions),\n",
    "            feed_dict={loaded_x: random_test_features, loaded_y: random_test_labels, loaded_keep_prob: 1.0})\n",
    "        helper.display_image_predictions(random_test_features, random_test_labels, random_test_predictions)\n",
    "\n",
    "\n",
    "test_model()"
   ]
  },
  {
   "cell_type": "markdown",
   "metadata": {},
   "source": [
    "## Why 50-80% Accuracy?\n",
    "You might be wondering why you can't get an accuracy any higher. First things first, 50% isn't bad for a simple CNN.  Pure guessing would get you 10% accuracy. However, you might notice people are getting scores [well above 80%](http://rodrigob.github.io/are_we_there_yet/build/classification_datasets_results.html#43494641522d3130).  That's because we haven't taught you all there is to know about neural networks. We still need to cover a few more techniques.\n",
    "## Submitting This Project\n",
    "When submitting this project, make sure to run all the cells before saving the notebook.  Save the notebook file as \"dlnd_image_classification.ipynb\" and save it as a HTML file under \"File\" -> \"Download as\".  Include the \"helper.py\" and \"problem_unittests.py\" files in your submission."
   ]
  }
 ],
 "metadata": {
  "kernelspec": {
   "display_name": "Python 3",
   "language": "python",
   "name": "python3"
  },
  "language_info": {
   "codemirror_mode": {
    "name": "ipython",
    "version": 3
   },
   "file_extension": ".py",
   "mimetype": "text/x-python",
   "name": "python",
   "nbconvert_exporter": "python",
   "pygments_lexer": "ipython3",
   "version": "3.5.3"
  }
 },
 "nbformat": 4,
 "nbformat_minor": 1
}
